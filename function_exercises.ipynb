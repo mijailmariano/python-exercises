{
 "cells": [
  {
   "cell_type": "code",
   "execution_count": 16,
   "metadata": {},
   "outputs": [],
   "source": [
    "# 1.\n",
    "# Define a function named is_two. \n",
    "# It should accept one input and return True if the passed input is either the number or the string 2, False otherwise\n",
    "\n",
    "def is_two(a):\n",
    "    while a == 2 or a == str('2'): #iam using a 'while' loop here to determine if the argument passed is either a numerical 2 or the string two\n",
    "        return True\n",
    "    else: \n",
    "        return False #if argument does not meet the above condition, then return \"False\""
   ]
  },
  {
   "cell_type": "code",
   "execution_count": 17,
   "metadata": {},
   "outputs": [
    {
     "name": "stdout",
     "output_type": "stream",
     "text": [
      "True\n"
     ]
    }
   ],
   "source": [
    "print(is_two('2'))"
   ]
  },
  {
   "cell_type": "code",
   "execution_count": 33,
   "metadata": {},
   "outputs": [],
   "source": [
    "# 2.  \n",
    "# Define a function named is_vowel\n",
    "# It should return True if the passed string is a vowel, False otherwise\n",
    "\n",
    "#notes\n",
    "#start by defining and naming a new function as instructed/prompted\n",
    "#function will take in one (1) argument as a string \n",
    "#i want to then check if the argument passed is a vowel or not\n",
    "#can do this with a if / else statment\n",
    "\n",
    "def is_vowel(a):\n",
    "    if a in ['a', 'e', 'i', 'o', 'u', 'A', 'E', 'I', 'O', 'U']:\n",
    "        return True\n",
    "    else:\n",
    "        return False\n"
   ]
  },
  {
   "cell_type": "code",
   "execution_count": 34,
   "metadata": {},
   "outputs": [
    {
     "name": "stdout",
     "output_type": "stream",
     "text": [
      "False\n"
     ]
    }
   ],
   "source": [
    "print(is_vowel('Z'))"
   ]
  },
  {
   "cell_type": "code",
   "execution_count": 152,
   "metadata": {},
   "outputs": [],
   "source": [
    "# 3.\n",
    "# Define a function named is_consonant. \n",
    "# It should return True if the passed string is a consonant, False otherwise. \n",
    "# Use your is_vowel function to accomplish this\n",
    "\n",
    "#notes\n",
    "#create / define a function as prompted\n",
    "#nest the previous created function \n",
    "#the result of this function should determine the outer/local variable result \n",
    "#meaning, True or False will influnce this new function's returned output\n",
    "\n",
    "def is_consonant(a):\n",
    "    if not isinstance(a, str): #i want to ensure that when this function is used, it does not take in 'inproper' argument types\n",
    "        raise TypeError(f\"{a} is an invalid argument type. Argument takes in str type.\")\n",
    "    elif is_vowel(a) == True: #essentially, iam passing the 'outer' argument in the function called is_vowel, if the outer argument now an 'inner argument' returns as True, then it must not be a consonant in the outer function - thus returning False\n",
    "        return False\n",
    "    else: \n",
    "        return True"
   ]
  },
  {
   "cell_type": "code",
   "execution_count": 157,
   "metadata": {},
   "outputs": [
    {
     "name": "stdout",
     "output_type": "stream",
     "text": [
      "False\n"
     ]
    }
   ],
   "source": [
    "print(is_consonant('o'))"
   ]
  },
  {
   "cell_type": "code",
   "execution_count": 159,
   "metadata": {},
   "outputs": [],
   "source": [
    "# 4.\n",
    "# Define a function that accepts a string that is a word. \n",
    "# The function should capitalize the first letter of the word if the word starts with a consonant\n",
    "\n",
    "def capitalize_consonant(a):\n",
    "    if not isinstance(a, str): #i want to ensure that when this function is used, it does not take in 'inproper' argument types\n",
    "        raise TypeError(f\"{a} is an invalid argument type. Argument takes in str type.\")\n",
    "    a = a[:] #if a is a string type, iam converting the string into an 'iterable list' \n",
    "    if is_consonant(a[0]) == True: #iam checking to see if the 0/first place character in the 'word' argument is a consonant \n",
    "        return a.capitalize() #if first character of the word is a consonant, iam capitalizing the first character/letter in the argument\n",
    "    else: #if the first character is not a consonant, iam returning a message letting the user know\n",
    "        return \"First letter is not a consonant.\"\n"
   ]
  },
  {
   "cell_type": "code",
   "execution_count": 162,
   "metadata": {},
   "outputs": [
    {
     "name": "stdout",
     "output_type": "stream",
     "text": [
      "Movies\n"
     ]
    }
   ],
   "source": [
    "print(capitalize_consonant('movies'))"
   ]
  },
  {
   "cell_type": "code",
   "execution_count": 169,
   "metadata": {},
   "outputs": [],
   "source": [
    "# 5.\n",
    "# Define a function named calculate_tip. It should accept a tip percentage \n",
    "# (a number between 0 and 1) and the bill total, and return the amount to tip\n",
    "\n",
    "def calculate_tip(a, b): #iam setting two 'parameters' here to act as placeholders for future 'arguments' or inputs\n",
    "    a = a / 100 #the first argument will be the tip amount converted into a percentage or float\n",
    "    return (f\" The tip amount should be ${a * b}\") #iam then multiplying the tip percentage with the total bill amount; i also consider a message that will be returned to the user for clarification\n"
   ]
  },
  {
   "cell_type": "code",
   "execution_count": 170,
   "metadata": {},
   "outputs": [
    {
     "name": "stdout",
     "output_type": "stream",
     "text": [
      " The tip amount should be $3.3\n"
     ]
    }
   ],
   "source": [
    "print(calculate_tip(30, 11))"
   ]
  },
  {
   "cell_type": "code",
   "execution_count": 171,
   "metadata": {},
   "outputs": [],
   "source": [
    "# 6.\n",
    "# Define a function named apply_discount\n",
    "# It should accept a original price, and a discount percentage, \n",
    "# and return the price after the discount is applied\n",
    "\n",
    "def apply_discount(a, b):\n",
    "    b = b / 100 #i treat the second parameter/argument passed as the 'discount percentage'\n",
    "    return (f\"The after discount price is ${(a) - (a * b)}\") #i then return the orginal price of the item 'a' minus the discount amount 'a*b'"
   ]
  },
  {
   "cell_type": "code",
   "execution_count": 172,
   "metadata": {},
   "outputs": [
    {
     "name": "stdout",
     "output_type": "stream",
     "text": [
      "The after discount price is $70.0\n"
     ]
    }
   ],
   "source": [
    "print(apply_discount(100, 30))"
   ]
  },
  {
   "cell_type": "code",
   "execution_count": 197,
   "metadata": {},
   "outputs": [],
   "source": [
    "# 7.\n",
    "# Define a function named handle_commas\n",
    "# It should accept a string that is a number that contains commas in it as input, and \n",
    "# return a number as output\n",
    "\n",
    "def handle_commas(a):\n",
    "    a = a[:]\n",
    "    for char in a:\n",
    "        if char == \",\":\n",
    "            a.replace(char, '')\n",
    "    return a\n"
   ]
  },
  {
   "cell_type": "code",
   "execution_count": 198,
   "metadata": {},
   "outputs": [
    {
     "name": "stdout",
     "output_type": "stream",
     "text": [
      "8,999,000\n"
     ]
    }
   ],
   "source": [
    "print(handle_commas('8,999,000'))"
   ]
  },
  {
   "cell_type": "code",
   "execution_count": null,
   "metadata": {},
   "outputs": [],
   "source": []
  }
 ],
 "metadata": {
  "interpreter": {
   "hash": "31f2aee4e71d21fbe5cf8b01ff0e069b9275f58929596ceb00d14d90e3e16cd6"
  },
  "kernelspec": {
   "display_name": "Python 3.8.9 64-bit",
   "language": "python",
   "name": "python3"
  },
  "language_info": {
   "codemirror_mode": {
    "name": "ipython",
    "version": 3
   },
   "file_extension": ".py",
   "mimetype": "text/x-python",
   "name": "python",
   "nbconvert_exporter": "python",
   "pygments_lexer": "ipython3",
   "version": "3.8.9"
  },
  "orig_nbformat": 4
 },
 "nbformat": 4,
 "nbformat_minor": 2
}
