{
 "cells": [
  {
   "cell_type": "code",
   "execution_count": 16,
   "metadata": {},
   "outputs": [],
   "source": [
    "# 1.\n",
    "# Define a function named is_two. \n",
    "# It should accept one input and return True if the passed input is either the number or the string 2, False otherwise\n",
    "\n",
    "def is_two(a):\n",
    "    while a == 2 or a == str('2'): #iam using a 'while' loop here to determine if the argument passed is either a numerical 2 or the string two\n",
    "        return True\n",
    "    else: \n",
    "        return False #if argument does not meet the above condition, then return \"False\""
   ]
  },
  {
   "cell_type": "code",
   "execution_count": 17,
   "metadata": {},
   "outputs": [
    {
     "name": "stdout",
     "output_type": "stream",
     "text": [
      "True\n"
     ]
    }
   ],
   "source": [
    "print(is_two('2'))"
   ]
  },
  {
   "cell_type": "code",
   "execution_count": 33,
   "metadata": {},
   "outputs": [],
   "source": [
    "# 2.  \n",
    "# Define a function named is_vowel\n",
    "# It should return True if the passed string is a vowel, False otherwise\n",
    "\n",
    "#notes\n",
    "#start by defining and naming a new function as instructed/prompted\n",
    "#function will take in one (1) argument as a string \n",
    "#i want to then check if the argument passed is a vowel or not\n",
    "#can do this with a if / else statment\n",
    "\n",
    "def is_vowel(a):\n",
    "    if a in ['a', 'e', 'i', 'o', 'u', 'A', 'E', 'I', 'O', 'U']:\n",
    "        return True\n",
    "    else:\n",
    "        return False\n"
   ]
  },
  {
   "cell_type": "code",
   "execution_count": 34,
   "metadata": {},
   "outputs": [
    {
     "name": "stdout",
     "output_type": "stream",
     "text": [
      "False\n"
     ]
    }
   ],
   "source": [
    "print(is_vowel('Z'))"
   ]
  },
  {
   "cell_type": "code",
   "execution_count": 152,
   "metadata": {},
   "outputs": [],
   "source": [
    "# 3.\n",
    "# Define a function named is_consonant. \n",
    "# It should return True if the passed string is a consonant, False otherwise. \n",
    "# Use your is_vowel function to accomplish this\n",
    "\n",
    "#notes\n",
    "#create / define a function as prompted\n",
    "#nest the previous created function \n",
    "#the result of this function should determine the outer/local variable result \n",
    "#meaning, True or False will influnce this new function's returned output\n",
    "\n",
    "def is_consonant(a):\n",
    "    if not isinstance(a, str): #i want to ensure that when this function is used, it does not take in 'inproper' argument types\n",
    "        raise TypeError(f\"{a} is an invalid argument type. Argument takes in str type.\")\n",
    "    elif is_vowel(a) == True: #essentially, iam passing the 'outer' argument in the function called is_vowel, if the outer argument now an 'inner argument' returns as True, then it must not be a consonant in the outer function - thus returning False\n",
    "        return False\n",
    "    else: \n",
    "        return True"
   ]
  },
  {
   "cell_type": "code",
   "execution_count": 157,
   "metadata": {},
   "outputs": [
    {
     "name": "stdout",
     "output_type": "stream",
     "text": [
      "False\n"
     ]
    }
   ],
   "source": [
    "print(is_consonant('o'))"
   ]
  },
  {
   "cell_type": "code",
   "execution_count": 306,
   "metadata": {},
   "outputs": [],
   "source": [
    "# 4.\n",
    "# Define a function that accepts a string that is a word. \n",
    "# The function should capitalize the first letter of the word if the word starts with a consonant\n",
    "\n",
    "def capitalize_starting_consonant(string):\n",
    "    if not isinstance(string, str): #i want to ensure that when this function is used, it does not take in 'inproper' argument types\n",
    "        raise TypeError(f\"{string} is an invalid argument type. Argument takes in str type.\")\n",
    "    string = string[:] #if a is a string type, iam converting the string into an 'iterable list' \n",
    "    if is_consonant(string[0]) == True: #iam checking to see if the 0/first place character in the 'word' argument is a consonant \n",
    "        return string.capitalize() #if first character of the word is a consonant, iam capitalizing the first character/letter in the argument\n",
    "    else: #if the first character is not a consonant, iam returning a message letting the user know\n",
    "        return \"First letter is not a consonant.\"\n"
   ]
  },
  {
   "cell_type": "code",
   "execution_count": 307,
   "metadata": {},
   "outputs": [
    {
     "name": "stdout",
     "output_type": "stream",
     "text": [
      "Movies\n"
     ]
    }
   ],
   "source": [
    "print(capitalize_starting_consonant('movies'))"
   ]
  },
  {
   "cell_type": "code",
   "execution_count": 310,
   "metadata": {},
   "outputs": [],
   "source": [
    "# 5.\n",
    "# Define a function named calculate_tip. It should accept a tip percentage \n",
    "# (a number between 0 and 1) and the bill total, and return the amount to tip\n",
    "\n",
    "def calculate_tip(tip_amount, total_bill_amount): #iam setting two 'parameters' here to act as placeholders for future 'arguments' or inputs\n",
    "    tip_amount = tip_amount / 100 #the first argument will be the tip amount converted into a percentage or float\n",
    "    return (f\" The tip amount should be ${total_bill_amount * tip_amount}\") #iam then multiplying the tip percentage with the total bill amount; i also consider a message that will be returned to the user for clarification\n"
   ]
  },
  {
   "cell_type": "code",
   "execution_count": 311,
   "metadata": {},
   "outputs": [
    {
     "name": "stdout",
     "output_type": "stream",
     "text": [
      " The tip amount should be $3.3\n"
     ]
    }
   ],
   "source": [
    "print(calculate_tip(30, 11))"
   ]
  },
  {
   "cell_type": "code",
   "execution_count": 312,
   "metadata": {},
   "outputs": [],
   "source": [
    "# 6.\n",
    "# Define a function named apply_discount\n",
    "# It should accept a original price, and a discount percentage, \n",
    "# and return the price after the discount is applied\n",
    "\n",
    "def apply_discount(price, discount_amount):\n",
    "    discount_amount = discount_amount / 100 #i treat the second parameter/argument passed as the 'discount percentage'\n",
    "    return (f\"The after discount price is ${(price) - (price * discount_amount)}\") #i then return the orginal price of the item 'a' minus the discount amount 'a*b'"
   ]
  },
  {
   "cell_type": "code",
   "execution_count": 314,
   "metadata": {},
   "outputs": [
    {
     "name": "stdout",
     "output_type": "stream",
     "text": [
      "The after discount price is $70.0\n"
     ]
    }
   ],
   "source": [
    "print(apply_discount(100, 30))"
   ]
  },
  {
   "cell_type": "code",
   "execution_count": 318,
   "metadata": {},
   "outputs": [],
   "source": [
    "# 7.\n",
    "# Define a function named handle_commas\n",
    "# It should accept a string that is a number that contains commas in it as input, and \n",
    "# return a number as output\n",
    "\n",
    "def handle_commas(numerical_string):\n",
    "    return int(numerical_string.replace(\",\", \"\"))\n",
    "    "
   ]
  },
  {
   "cell_type": "code",
   "execution_count": 320,
   "metadata": {},
   "outputs": [
    {
     "name": "stdout",
     "output_type": "stream",
     "text": [
      "769000000\n"
     ]
    }
   ],
   "source": [
    "print(handle_commas('769,000,000'))"
   ]
  },
  {
   "cell_type": "code",
   "execution_count": 226,
   "metadata": {},
   "outputs": [
    {
     "name": "stdout",
     "output_type": "stream",
     "text": [
      "Your letter grade is: A\n",
      "Your letter grade is: C\n",
      "Your letter grade is: F\n"
     ]
    }
   ],
   "source": [
    "# 8.\n",
    "# Define a function named get_letter_grade\n",
    "# It should accept a number and return the letter grade associated with that number (A-F)\n",
    "\n",
    "# A : 100 - 88\n",
    "# B : 87 - 80\n",
    "# C : 79 - 67\n",
    "# D : 66 - 60\n",
    "# F : 59 - 0\n",
    "\n",
    "def get_letter_grade(a):\n",
    "    if not isinstance(a, int): #i want to ensure that when this function is used, it does not take in 'inproper' argument types\n",
    "        raise TypeError(f\"{a} is not valid. Please enter int() type as argument.\")\n",
    "    if a in range(88, 101):\n",
    "        return (f\"Your letter grade is: A\")\n",
    "    elif a >= 80:\n",
    "        return (f\"Your letter grade is: B\")\n",
    "    elif a >= 67:\n",
    "        return (f\"Your letter grade is: C\")\n",
    "    elif a >= 60:\n",
    "        return (f\"Your letter grade is: D\")\n",
    "    else:\n",
    "        return (f\"Your letter grade is: F\")\n",
    "\n",
    "\n",
    "print(get_letter_grade(90))\n",
    "print(get_letter_grade(68))\n",
    "print(get_letter_grade(56))"
   ]
  },
  {
   "cell_type": "code",
   "execution_count": 322,
   "metadata": {},
   "outputs": [
    {
     "name": "stdout",
     "output_type": "stream",
     "text": [
      "Ys!\n",
      "Tdy s Mndy!\n"
     ]
    }
   ],
   "source": [
    "#  9. \n",
    "# Define a function named remove_vowels that accepts a string and \n",
    "# returns a string with all the vowels removed\n",
    "\n",
    "def remove_vowels(string):\n",
    "    import re #i decided to import regular expressions to help solve this problem / make the function more efficient\n",
    "    string = re.sub('[aeiouAEIOU]', '', string) #i use the 'sub()' function within re to set the argument to a new variable such that all vowels in the orginal argument are moved and no new characters are assigned to its place\n",
    "    return string\n",
    "\n",
    "print(remove_vowels(\"Yes!\")) #should print return 'Ys!'\n",
    "print(remove_vowels('Today is Monday!')) #should pritn return 'Tdy s Mndy'\n"
   ]
  },
  {
   "cell_type": "code",
   "execution_count": 325,
   "metadata": {},
   "outputs": [
    {
     "name": "stdout",
     "output_type": "stream",
     "text": [
      "this_is_a_test\n"
     ]
    }
   ],
   "source": [
    "# 10.\n",
    "# Define a function named normalize_name\n",
    "# It should accept a string and return a valid python identifier, that is:\n",
    "# anything that is not a valid python identifier should be removed\n",
    "# leading and trailing whitespace should be removed\n",
    "# everything should be lowercase\n",
    "# spaces should be replaced with underscores\n",
    "# for example:\n",
    "\n",
    "# Name will become name\n",
    "# First Name will become first_name\n",
    "# % Completed will become completed\n",
    "\n",
    "def normalize_name(string):\n",
    "    import re #import regular expression specialized 'string functions'\n",
    "    string = string.strip() #first, i use a 'strip()' function to remove any whitespace (spaces) from the beginning and end of the string\n",
    "    string = re.sub(r\"[!@#$%^&*()]\", '', string) #second, this reads \"from regular expression, use sub() or substitute string function\" where i substitute any 'non-alphanumerical' string and say ''/do not substitute them in the string\n",
    "    string = re.sub(r\"[ ]\", '_', string) #third, i use the same substitute function 'sub()' as above to match any remaining whitespaces (spaces) between the string and substitute them with '_'/underscores\n",
    "    return string.lower() #last, return the string as lowercase\n",
    "\n",
    "\n",
    "print(normalize_name(\" This Is a tEs*T \"))"
   ]
  },
  {
   "cell_type": "code",
   "execution_count": 328,
   "metadata": {},
   "outputs": [
    {
     "name": "stdout",
     "output_type": "stream",
     "text": [
      "[1, 3, 6, 10, 15]\n"
     ]
    }
   ],
   "source": [
    "#11. \n",
    "# Write a function named cumulative_sum that accepts a list of numbers and \n",
    "# returns a list that is the cumulative sum of the numbers in the list\n",
    "# cumulative_sum([1, 1, 1]) returns [1, 2, 3]\n",
    "# cumulative_sum([1, 2, 3, 4]) returns [1, 3, 6, 10]\n",
    "\n",
    "def cumulative_sum(list_of_numbers):\n",
    "    cu_lst = []\n",
    "    next_num = 0\n",
    "    for num in range(0, len(list_of_numbers)):\n",
    "        next_num = next_num + list_of_numbers[num]\n",
    "        cu_lst.append(next_num)\n",
    "    return cu_lst\n",
    "\n",
    "print(cumulative_sum([1, 2, 3, 4, 5]))"
   ]
  },
  {
   "cell_type": "code",
   "execution_count": 401,
   "metadata": {},
   "outputs": [
    {
     "name": "stdout",
     "output_type": "stream",
     "text": [
      "06:05\n",
      "11:09 PM\n"
     ]
    }
   ],
   "source": [
    "# Bonus\n",
    "# Create a function named twelveto24. It should accept a string in the format 10:45am or 4:30pm \n",
    "# and return a string that is the representation of the time in a 24-hour format\n",
    "# Bonus write a function that does the opposite\n",
    "\n",
    "def twelveto24(string):\n",
    "    from datetime import datetime\n",
    "    in_time = datetime.strptime(string, \"%I:%M %p\") #string parse time \n",
    "    out_time = datetime.strftime(in_time, \"%H:%M\") #string format time\n",
    "    return out_time\n",
    "    \n",
    "print(twelveto24('6:05 AM'))\n",
    "\n",
    "\n",
    "def twentyfourto12(string):\n",
    "    from datetime import datetime\n",
    "    in_time = datetime.strptime(string, \"%H:%M\")\n",
    "    out_time = datetime.strftime(in_time, \"%I:%M %p\")\n",
    "    return out_time\n",
    "\n",
    "\n",
    "print(twentyfourto12('23:09'))"
   ]
  },
  {
   "cell_type": "code",
   "execution_count": 400,
   "metadata": {},
   "outputs": [
    {
     "name": "stdout",
     "output_type": "stream",
     "text": [
      "ctdg\n"
     ]
    }
   ],
   "source": [
    "# example\n",
    "# using re 'findall()' function to return 'normalized' text\n",
    "\n",
    "def normal_text(string):\n",
    "    import re #import regular expression specialized 'string functions'\n",
    "    string = string.strip() #first, i use a 'strip()' function to remove any whitespace (spaces) from the beginning and end of the string\n",
    "    string = re.findall('\\w', string) #the '\\w' expression inside of a 'findall' function is used such that ONLY AlphaNumeric characters in the 'string' variable are extracted and appended to a list \n",
    "    return \"\".join(string).lower() #this line uses a new 'empty string' that is then created by 'joining' all the characters in the 'string' variable; finally, all characters are returned in lowercase \n",
    "\n",
    "\n",
    "print(normal_text('C@^t d(g'))\n",
    "\n",
    "#notes \n",
    "#since i use a join() method - all characters are joined, which may not be entirely what i want to do\n",
    "#consider a re function like 'match()' to return alphanumeric characters in their respective indices/place?"
   ]
  },
  {
   "cell_type": "code",
   "execution_count": null,
   "metadata": {},
   "outputs": [],
   "source": []
  }
 ],
 "metadata": {
  "interpreter": {
   "hash": "31f2aee4e71d21fbe5cf8b01ff0e069b9275f58929596ceb00d14d90e3e16cd6"
  },
  "kernelspec": {
   "display_name": "Python 3.8.9 64-bit",
   "language": "python",
   "name": "python3"
  },
  "language_info": {
   "codemirror_mode": {
    "name": "ipython",
    "version": 3
   },
   "file_extension": ".py",
   "mimetype": "text/x-python",
   "name": "python",
   "nbconvert_exporter": "python",
   "pygments_lexer": "ipython3",
   "version": "3.8.9"
  },
  "orig_nbformat": 4
 },
 "nbformat": 4,
 "nbformat_minor": 2
}
