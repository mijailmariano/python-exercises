{
 "cells": [
  {
   "cell_type": "markdown",
   "metadata": {},
   "source": [
    "### ``list comprehensions``"
   ]
  },
  {
   "attachments": {},
   "cell_type": "markdown",
   "metadata": {},
   "source": [
    "**``exercise #1``**\n",
    "\n",
    "\n",
    "You are given three integers (\"x, y, and z\") representing the dimensions of a cuboid along with an integer (\"n\")\n",
    "\n",
    "Print a list of all possible coordinates given by (i, j, k) on a 3D grid where the sum of \"i + j + k\" is not equal to \"n\"\n",
    "\n",
    "**Where:**\n",
    "\n",
    "0 <= i <= x\n",
    "0 <= j <= y\n",
    "0 <= k <= z\n",
    "\n",
    "Please use list comprehensions rather than multiple loops, as a learning exercise. \n",
    "\n",
    "**Input Format**\n",
    "\n",
    "- Four integers x, y, z, and n each on a separate line.\n",
    "\n",
    "**Constraints**\n",
    "\n",
    "- Print the list in lexicographic increasing order."
   ]
  },
  {
   "cell_type": "code",
   "execution_count": 9,
   "metadata": {},
   "outputs": [
    {
     "name": "stdout",
     "output_type": "stream",
     "text": [
      "[[0, 0, 0], [0, 0, 1], [0, 0, 2], [0, 0, 3], [0, 1, 0], [0, 1, 1], [0, 1, 2], [0, 2, 0], [0, 2, 1], [0, 2, 3], [1, 0, 0], [1, 0, 1], [1, 0, 2], [1, 1, 0], [1, 1, 1], [1, 1, 3], [1, 2, 0], [1, 2, 2], [1, 2, 3]]\n"
     ]
    }
   ],
   "source": [
    "# answer\n",
    "x = int(input())\n",
    "y = int(input())\n",
    "z = int(input())\n",
    "n = int(input())\n",
    "\n",
    "coordinates = [[i, j, k] for i in range(x+1) for j in range(y+1) for k in range(z+1) if i+j+k != n]\n",
    "\n",
    "print(coordinates)"
   ]
  },
  {
   "attachments": {},
   "cell_type": "markdown",
   "metadata": {},
   "source": [
    "**``exercise #2``**\n",
    "\n",
    "Given the participants' score sheet for your University Sports Day, you are required to find the runner-up score. You are given \"n\" scores. Store them in a list and find the score of the runner-up.\n",
    "\n",
    "**Input Format**\n",
    "\n",
    "The first line contains n. The second line contains an array \"A[]\" of \"n\" integers each separated by a space. \n",
    "\n",
    "**Constraints:** \n",
    "\n",
    "2 <= n <= 10\n",
    "\n",
    "-100 <= A[i] <= 100\n",
    "\n",
    "**Output Format**\n",
    "\n",
    "Print the runner-up score.\n",
    "\n",
    "**Sample Input 0**\n",
    "\n",
    "5\n",
    "2 3 6 6 5\n",
    "\n",
    "**Sample Output 0**\n",
    "\n",
    "5\n",
    "\n",
    "**Explanation 0**\n",
    "\n",
    "Given list is [2,3,6,6,5]. The maximum score is 6, second maximum is 5. Hence, we print 5 as the runner-up score. "
   ]
  },
  {
   "cell_type": "code",
   "execution_count": 27,
   "metadata": {},
   "outputs": [
    {
     "name": "stdout",
     "output_type": "stream",
     "text": [
      "9\n"
     ]
    }
   ],
   "source": [
    "if __name__ == '__main__':\n",
    "    '''assuming that the runner-up cannot share 1st place, we can then look solely at unique values only \n",
    "    and return the second number in the array\n",
    "    '''\n",
    "    # step 01: prompt the user to input the total number of scores\n",
    "    n = int(input(\"Enter the total number of scores: \"))\n",
    "\n",
    "    # step 02: check to ensure that the number of scores entered is >= 2\n",
    "    if n>=2:\n",
    "        \n",
    "        # step 03: next, prompt user to input the actual score results --> delineated by \"space\"\n",
    "        arr = list(map(int, input(\"Enter the score results deliniated by a space: \").split()))\n",
    "\n",
    "        # step 04a: if the total number of scores is equal to the total score results inputed, then do the following:\n",
    "        if len(arr) == n:\n",
    "\n",
    "            # step 04b: remove duplicates from the list using the 'set' function\n",
    "            new_lst = set(arr)\n",
    "\n",
    "            # step 04c: sort list in descending order\n",
    "            sorted_lst = sorted(new_lst, reverse = True)\n",
    "\n",
    "            # step 05: point to the second indexed element and print this number (\"runner-up\")\n",
    "            print(sorted_lst[1])\n",
    "\n",
    "        else:\n",
    "            print(\"Number of total scores does not match inputed scores.\")\n",
    "\n",
    "    else: \n",
    "\n",
    "        print('Program requires 2 or more scores to be entered and sorted.')"
   ]
  },
  {
   "cell_type": "code",
   "execution_count": 11,
   "metadata": {},
   "outputs": [
    {
     "name": "stdout",
     "output_type": "stream",
     "text": [
      "4\n"
     ]
    }
   ],
   "source": [
    "lst = [1, 1, 2, 2, 4, 6]\n",
    "\n",
    "# step 01: remove duplicates from the list using the 'set' function\n",
    "new_lst = list(set(lst))\n",
    "\n",
    "# step 02: sort list in descending order\n",
    "sorted_lst = sorted(new_lst, reverse = True)\n",
    "\n",
    "# step 03: point to the second index and print this number\n",
    "print(sorted_lst[1])"
   ]
  },
  {
   "cell_type": "code",
   "execution_count": 4,
   "metadata": {},
   "outputs": [
    {
     "data": {
      "text/plain": [
       "[1, 2, 4, 6]"
      ]
     },
     "execution_count": 4,
     "metadata": {},
     "output_type": "execute_result"
    }
   ],
   "source": [
    "# Removing duplicates by first changing to a set and then back to a list\n",
    "new_list = list(set(lst))\n",
    "\n",
    "new_list"
   ]
  },
  {
   "cell_type": "code",
   "execution_count": null,
   "metadata": {},
   "outputs": [],
   "source": []
  }
 ],
 "metadata": {
  "kernelspec": {
   "display_name": "Python 3",
   "language": "python",
   "name": "python3"
  },
  "language_info": {
   "codemirror_mode": {
    "name": "ipython",
    "version": 3
   },
   "file_extension": ".py",
   "mimetype": "text/x-python",
   "name": "python",
   "nbconvert_exporter": "python",
   "pygments_lexer": "ipython3",
   "version": "3.11.1"
  },
  "orig_nbformat": 4,
  "vscode": {
   "interpreter": {
    "hash": "aee8b7b246df8f9039afb4144a1f6fd8d2ca17a180786b69acc140d282b71a49"
   }
  }
 },
 "nbformat": 4,
 "nbformat_minor": 2
}
