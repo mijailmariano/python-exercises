{
 "cells": [
  {
   "cell_type": "markdown",
   "metadata": {},
   "source": [
    "### ``list comprehensions``"
   ]
  },
  {
   "attachments": {},
   "cell_type": "markdown",
   "metadata": {},
   "source": [
    "**``exercise #1``**\n",
    "\n",
    "\n",
    "You are given three integers (\"x, y, and z\") representing the dimensions of a cuboid along with an integer (\"n\")\n",
    "\n",
    "Print a list of all possible coordinates given by (i, j, k) on a 3D grid where the sum of \"i + j + k\" is not equal to \"n\"\n",
    "\n",
    "**Where:**\n",
    "\n",
    "0 <= i <= x\n",
    "0 <= j <= y\n",
    "0 <= k <= z\n",
    "\n",
    "Please use list comprehensions rather than multiple loops, as a learning exercise. \n",
    "\n",
    "**Input Format**\n",
    "\n",
    "- Four integers x, y, z, and n each on a separate line.\n",
    "\n",
    "**Constraints**\n",
    "\n",
    "- Print the list in lexicographic increasing order."
   ]
  },
  {
   "cell_type": "code",
   "execution_count": 9,
   "metadata": {},
   "outputs": [
    {
     "name": "stdout",
     "output_type": "stream",
     "text": [
      "[[0, 0, 0], [0, 0, 1], [0, 0, 2], [0, 0, 3], [0, 1, 0], [0, 1, 1], [0, 1, 2], [0, 2, 0], [0, 2, 1], [0, 2, 3], [1, 0, 0], [1, 0, 1], [1, 0, 2], [1, 1, 0], [1, 1, 1], [1, 1, 3], [1, 2, 0], [1, 2, 2], [1, 2, 3]]\n"
     ]
    }
   ],
   "source": [
    "# answer\n",
    "x = int(input())\n",
    "y = int(input())\n",
    "z = int(input())\n",
    "n = int(input())\n",
    "\n",
    "coordinates = [[i, j, k] for i in range(x+1) for j in range(y+1) for k in range(z+1) if i+j+k != n]\n",
    "\n",
    "print(coordinates)"
   ]
  },
  {
   "attachments": {},
   "cell_type": "markdown",
   "metadata": {},
   "source": [
    "**``exercise #2``**\n",
    "\n",
    "Given the participants' score sheet for your University Sports Day, you are required to find the runner-up score. You are given \"n\" scores. Store them in a list and find the score of the runner-up.\n",
    "\n",
    "**Input Format**\n",
    "\n",
    "The first line contains n. The second line contains an array \"A[]\" of \"n\" integers each separated by a space. \n",
    "\n",
    "**Constraints:** \n",
    "\n",
    "2 <= n <= 10\n",
    "\n",
    "-100 <= A[i] <= 100\n",
    "\n",
    "**Output Format**\n",
    "\n",
    "Print the runner-up score.\n",
    "\n",
    "**Sample Input 0**\n",
    "\n",
    "5\n",
    "2 3 6 6 5\n",
    "\n",
    "**Sample Output 0**\n",
    "\n",
    "5\n",
    "\n",
    "**Explanation 0**\n",
    "\n",
    "Given list is [2,3,6,6,5]. The maximum score is 6, second maximum is 5. Hence, we print 5 as the runner-up score. "
   ]
  },
  {
   "cell_type": "code",
   "execution_count": 27,
   "metadata": {},
   "outputs": [
    {
     "name": "stdout",
     "output_type": "stream",
     "text": [
      "9\n"
     ]
    }
   ],
   "source": [
    "if __name__ == '__main__':\n",
    "    '''assuming that the runner-up cannot share 1st place, we can then look solely at unique values only \n",
    "    and return the second number in the array\n",
    "    '''\n",
    "    # step 01: prompt the user to input the total number of scores\n",
    "    n = int(input(\"Enter the total number of scores: \"))\n",
    "\n",
    "    # step 02: check to ensure that the number of scores entered is >= 2\n",
    "    if n>=2:\n",
    "        \n",
    "        # step 03: next, prompt user to input the actual score results --> delineated by \"space\"\n",
    "        arr = list(map(int, input(\"Enter the score results deliniated by a space: \").split()))\n",
    "\n",
    "        # step 04a: if the total number of scores is equal to the total score results inputed, then do the following:\n",
    "        if len(arr) == n:\n",
    "\n",
    "            # step 04b: remove duplicates from the list using the 'set' function\n",
    "            new_lst = set(arr)\n",
    "\n",
    "            # step 04c: sort list in descending order\n",
    "            sorted_lst = sorted(new_lst, reverse = True)\n",
    "\n",
    "            # step 05: point to the second indexed element and print this number (\"runner-up\")\n",
    "            print(sorted_lst[1])\n",
    "\n",
    "        else:\n",
    "            print(\"Number of total scores does not match inputed scores.\")\n",
    "\n",
    "    else: \n",
    "\n",
    "        print('Program requires 2 or more scores to be entered and sorted.')"
   ]
  },
  {
   "cell_type": "code",
   "execution_count": 11,
   "metadata": {},
   "outputs": [
    {
     "name": "stdout",
     "output_type": "stream",
     "text": [
      "4\n"
     ]
    }
   ],
   "source": [
    "lst = [1, 1, 2, 2, 4, 6]\n",
    "\n",
    "# step 01: remove duplicates from the list using the 'set' function\n",
    "new_lst = list(set(lst))\n",
    "\n",
    "# step 02: sort list in descending order\n",
    "sorted_lst = sorted(new_lst, reverse = True)\n",
    "\n",
    "# step 03: point to the second index and print this number\n",
    "print(sorted_lst[1])"
   ]
  },
  {
   "cell_type": "code",
   "execution_count": 4,
   "metadata": {},
   "outputs": [
    {
     "data": {
      "text/plain": [
       "[1, 2, 4, 6]"
      ]
     },
     "execution_count": 4,
     "metadata": {},
     "output_type": "execute_result"
    }
   ],
   "source": [
    "# Removing duplicates by first changing to a set and then back to a list\n",
    "new_list = list(set(lst))\n",
    "\n",
    "new_list"
   ]
  },
  {
   "attachments": {},
   "cell_type": "markdown",
   "metadata": {},
   "source": [
    "**``Exercise #3:``**\n",
    "\n",
    "Given the names and grades for each student in a N class of students, store them in a nested list and print the name(s) of any student(s) having the second lowest grade.\n",
    "\n",
    "Note: If there are multiple students with the second lowest grade, order their names alphabetically and print each name on a new line.\n",
    "\n",
    "**Example:**\n",
    "\n",
    "*records = [[\"chi\", 20.0], [\"beta\", 50.0], [\"alpha\", 50.0]]*\n",
    "\n",
    "The ordered list of scores is [20.0, 50.0], so the second lowest score is 50.0. There are two students with that score: [\"beta\", \"alpha\"]. Ordered alphabetically, the names are printed as: [\"alpha\", \"beta\"]\n",
    "\n",
    "\n",
    "**Input Format**\n",
    "\n",
    "The first line contains an integer, N, the number of students.\n",
    "\n",
    "The 2N subsequent lines describe each student over 2 lines.\n",
    "- The first line contains a student's name.\n",
    "- The second line contains their grade.\n",
    "\n",
    "**Constraints**\n",
    "\n",
    "2 <= N <= 5\n",
    "\n",
    "There will always be one or more students having the second lowest grade.\n",
    "\n",
    "**Output Format**\n",
    "\n",
    "Print the name(s) of any student(s) having the second lowest grade in. If there are multiple students, order their names alphabetically and print each one on a new line."
   ]
  },
  {
   "cell_type": "code",
   "execution_count": null,
   "metadata": {},
   "outputs": [],
   "source": [
    "# what I want to do:\n",
    "# create an empty/placeholder list to iterate from \n",
    "# ask the user for information (name, and grade/score)\n",
    "# store this information in a list of some kind\n",
    "# then, sort this list by grade/score\n",
    "\n",
    "# check for the 'second' lowest grade/score\n",
    "# append the grade recipient's name to a list\n",
    "# if* there are >= 2 more name's with 2nd lowest grade --> return the names in alphabetical order"
   ]
  },
  {
   "cell_type": "code",
   "execution_count": 34,
   "metadata": {},
   "outputs": [
    {
     "ename": "IndexError",
     "evalue": "list index out of range",
     "output_type": "error",
     "traceback": [
      "\u001b[0;31m---------------------------------------------------------------------------\u001b[0m",
      "\u001b[0;31mIndexError\u001b[0m                                Traceback (most recent call last)",
      "Cell \u001b[0;32mIn[34], line 18\u001b[0m\n\u001b[1;32m     14\u001b[0m     sorted_grades \u001b[39m=\u001b[39m \u001b[39msorted\u001b[39m(students, key \u001b[39m=\u001b[39m \u001b[39mlambda\u001b[39;00m t: t[\u001b[39m1\u001b[39m])\n\u001b[1;32m     16\u001b[0m     \u001b[39m# let's now check for the 2nd lowest score\u001b[39;00m\n\u001b[1;32m     17\u001b[0m     \u001b[39m# 'in theory' this should be the 2nd indexed tuple/grade value in the sorted grades list\u001b[39;00m\n\u001b[0;32m---> 18\u001b[0m     second_lowest_grade \u001b[39m=\u001b[39m \u001b[39msorted\u001b[39;49m(\u001b[39mlist\u001b[39;49m(\u001b[39mset\u001b[39;49m([x[\u001b[39m1\u001b[39;49m] \u001b[39mfor\u001b[39;49;00m x \u001b[39min\u001b[39;49;00m sorted_grades])))[\u001b[39m1\u001b[39;49m]\n\u001b[1;32m     21\u001b[0m \u001b[39mprint\u001b[39m(second_lowest_grade)\n",
      "\u001b[0;31mIndexError\u001b[0m: list index out of range"
     ]
    }
   ],
   "source": [
    "students = []\n",
    "\n",
    "# prompt the user for the total number of students and/or grades to be checked\n",
    "for _ in range(int(input(\"Total number of students/grades to evaluate: \"))):\n",
    "\n",
    "    # prompt the user for students' name, followed by the grade/score received\n",
    "    name = str(input(\"Student's Name: \"))\n",
    "    score = float(input(\"Student's Grade: \"))\n",
    "\n",
    "    # append this information to the created, 'nested' list\n",
    "    students.append([name, score])\n",
    "\n",
    "    # sort the 'students' list by the 2nd element in ea. tuple\n",
    "    sorted_grades = sorted(students, key = lambda t: t[1])\n",
    "\n",
    "    # let's now check for the 2nd lowest score\n",
    "    # 'in theory' this should be the 2nd indexed tuple/grade value in the sorted grades list\n",
    "    second_lowest_grade = sorted(list(set([x[1] for x in sorted_grades])))[1]\n",
    "\n",
    "\n",
    "print(second_lowest_grade)"
   ]
  },
  {
   "cell_type": "code",
   "execution_count": 37,
   "metadata": {},
   "outputs": [
    {
     "name": "stdout",
     "output_type": "stream",
     "text": [
      "mijail\n"
     ]
    }
   ],
   "source": [
    "if __name__ == '__main__':\n",
    "    # step 01: create a 'placeholder' list\n",
    "    students = []\n",
    "\n",
    "    # step 02: prompt the user for the total number of students and/or grades to be checked\n",
    "    for _ in range(int(input(\"Total number of students/grades to evaluate: \"))):\n",
    "\n",
    "        # step 03: prompt the user for students' name, followed by the grade/score received\n",
    "        name = str(input(\"Student's Name: \"))\n",
    "        score = float(input(\"Student's Grade: \"))\n",
    "\n",
    "        # step 04: append this information to the created, 'nested' list\n",
    "        students.append([name, score])\n",
    "\n",
    "    # step 05: sort the 'students' list by the 2nd element in ea. tuple\n",
    "    sorted_grades = sorted(students, key = lambda t: t[1])\n",
    "\n",
    "    # step 06: let's now check for the 2nd lowest score\n",
    "    # 'in theory' this should be the 2nd indexed tuple/grade value in the sorted grades list\n",
    "    second_lowest_grade = sorted(list(set([x[1] for x in sorted_grades])))[1]\n",
    "\n",
    "    # step 07: create another empty/placeholder list for students with 2nd lowest grade\n",
    "    desired_students = []\n",
    "\n",
    "    for student in sorted_grades:\n",
    "\n",
    "        if student[1] == second_lowest_grade:\n",
    "\n",
    "            # append the student's name to the desired_students list\n",
    "            desired_students.append(student[0])\n",
    "\n",
    "    print(\"\\n\".join(sorted(desired_students)))"
   ]
  },
  {
   "cell_type": "code",
   "execution_count": null,
   "metadata": {},
   "outputs": [],
   "source": []
  }
 ],
 "metadata": {
  "kernelspec": {
   "display_name": "Python 3",
   "language": "python",
   "name": "python3"
  },
  "language_info": {
   "codemirror_mode": {
    "name": "ipython",
    "version": 3
   },
   "file_extension": ".py",
   "mimetype": "text/x-python",
   "name": "python",
   "nbconvert_exporter": "python",
   "pygments_lexer": "ipython3",
   "version": "3.11.1"
  },
  "orig_nbformat": 4,
  "vscode": {
   "interpreter": {
    "hash": "aee8b7b246df8f9039afb4144a1f6fd8d2ca17a180786b69acc140d282b71a49"
   }
  }
 },
 "nbformat": 4,
 "nbformat_minor": 2
}
