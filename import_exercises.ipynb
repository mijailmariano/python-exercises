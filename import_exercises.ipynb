{
 "cells": [
  {
   "cell_type": "code",
   "execution_count": 2,
   "id": "3ad947af",
   "metadata": {},
   "outputs": [
    {
     "name": "stdout",
     "output_type": "stream",
     "text": [
      "True\n"
     ]
    }
   ],
   "source": [
    "# # 1a.\n",
    "# Import and test 3 of the functions from your functions exercise file. Import each function in a different way:\n",
    "# Run an interactive python session and import the module. Call the is_vowel function using the . syntax.\n",
    "\n",
    "import import_exercises as func\n",
    "\n",
    "print(func.is_vowel('A'))\n"
   ]
  },
  {
   "cell_type": "code",
   "execution_count": 4,
   "id": "215d568a",
   "metadata": {},
   "outputs": [
    {
     "name": "stdout",
     "output_type": "stream",
     "text": [
      " The tip amount should be $55.0\n"
     ]
    }
   ],
   "source": [
    "# 1b. Create a file named import_exericses.py. Within this file, use from to import the calculate_tip function directly. Call this function with values you choose and print the result.\n",
    "\n",
    "from import_exercises import calculate_tip\n",
    "\n",
    "print(calculate_tip(25, 220))"
   ]
  },
  {
   "cell_type": "code",
   "execution_count": 6,
   "id": "e22b2fe6",
   "metadata": {},
   "outputs": [
    {
     "name": "stdout",
     "output_type": "stream",
     "text": [
      "Your letter grade is: A\n"
     ]
    }
   ],
   "source": [
    "# 1c.\n",
    "\n",
    "# Create a jupyter notebook named import_exercises.ipynb. Use from to import the get_letter_grade function and give it an alias. \n",
    "# Test this function in your notebook\n",
    "\n",
    "from import_exercises import get_letter_grade as letter_grade\n",
    "\n",
    "print(letter_grade(97))"
   ]
  },
  {
   "cell_type": "code",
   "execution_count": 26,
   "id": "9848719d",
   "metadata": {},
   "outputs": [
    {
     "name": "stdout",
     "output_type": "stream",
     "text": [
      "9\n"
     ]
    }
   ],
   "source": [
    "# 2a.\n",
    "# Read about and use the itertools module from the python standard library to help you solve the following problems:\n",
    "# How many different ways can you combine the letters from \"abc\" with the numbers 1, 2, and 3?\n",
    "\n",
    "import itertools as iter\n",
    "\n",
    "def cartesian_product(arr1, arr2):\n",
    "    return list(iter.product(arr1, arr2))\n",
    "\n",
    "\n",
    "unique_pairs = set(cartesian_product(['a', 'b', 'c'], ['1', '2', '3'])) #using a 'set()' function to print back only 'unique' tuples\n",
    "\n",
    "print(len(unique_pairs)) #printing the total number of 'unique pairs'"
   ]
  },
  {
   "cell_type": "markdown",
   "id": "cfe15941",
   "metadata": {},
   "source": []
  },
  {
   "cell_type": "code",
   "execution_count": null,
   "id": "652b075f",
   "metadata": {},
   "outputs": [],
   "source": []
  }
 ],
 "metadata": {
  "interpreter": {
   "hash": "31f2aee4e71d21fbe5cf8b01ff0e069b9275f58929596ceb00d14d90e3e16cd6"
  },
  "kernelspec": {
   "display_name": "Python 3.8.9 64-bit",
   "language": "python",
   "name": "python3"
  },
  "language_info": {
   "codemirror_mode": {
    "name": "ipython",
    "version": 3
   },
   "file_extension": ".py",
   "mimetype": "text/x-python",
   "name": "python",
   "nbconvert_exporter": "python",
   "pygments_lexer": "ipython3",
   "version": "3.8.9"
  }
 },
 "nbformat": 4,
 "nbformat_minor": 5
}
