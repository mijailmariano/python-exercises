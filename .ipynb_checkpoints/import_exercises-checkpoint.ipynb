{
 "cells": [
  {
   "cell_type": "code",
   "execution_count": 2,
   "id": "c8d5bd0e",
   "metadata": {},
   "outputs": [],
   "source": [
    "import example as ex"
   ]
  },
  {
   "cell_type": "code",
   "execution_count": 3,
   "id": "924290b1",
   "metadata": {},
   "outputs": [
    {
     "name": "stdout",
     "output_type": "stream",
     "text": [
      "False\n"
     ]
    }
   ],
   "source": [
    "print(ex.is_consonant('a'))"
   ]
  },
  {
   "cell_type": "code",
   "execution_count": 4,
   "id": "04fa6001",
   "metadata": {},
   "outputs": [
    {
     "name": "stdout",
     "output_type": "stream",
     "text": [
      "True\n"
     ]
    }
   ],
   "source": [
    "print(ex.is_vowel('O'))"
   ]
  },
  {
   "cell_type": "code",
   "execution_count": 10,
   "id": "09991942",
   "metadata": {},
   "outputs": [
    {
     "name": "stdout",
     "output_type": "stream",
     "text": [
      "['__builtins__', '__cached__', '__doc__', '__file__', '__loader__', '__name__', '__package__', '__spec__', 'apply_discount', 'is_consonant', 'is_vowel']\n"
     ]
    }
   ],
   "source": [
    "print(dir(ex))"
   ]
  },
  {
   "cell_type": "code",
   "execution_count": null,
   "id": "09b67612",
   "metadata": {},
   "outputs": [],
   "source": []
  }
 ],
 "metadata": {
  "kernelspec": {
   "display_name": "Python 3 (ipykernel)",
   "language": "python",
   "name": "python3"
  },
  "language_info": {
   "codemirror_mode": {
    "name": "ipython",
    "version": 3
   },
   "file_extension": ".py",
   "mimetype": "text/x-python",
   "name": "python",
   "nbconvert_exporter": "python",
   "pygments_lexer": "ipython3",
   "version": "3.9.12"
  }
 },
 "nbformat": 4,
 "nbformat_minor": 5
}
